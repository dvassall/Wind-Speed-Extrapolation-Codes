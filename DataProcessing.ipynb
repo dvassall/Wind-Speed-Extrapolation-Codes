{
 "cells": [
  {
   "cell_type": "markdown",
   "metadata": {},
   "source": [
    "<h1>Example Code Importing and Processing Data from CSV file</h1>"
   ]
  },
  {
   "cell_type": "markdown",
   "metadata": {},
   "source": [
    "<h3>\n",
    "    Example will go through the extraction of necessary data for the creation of an ANN extrapolating 120m wind speeds.</h3>\n",
    "<h3>\n",
    "    The Data.csv file contains 10 minute data. Spreadsheet foramtted to go through each individual variable at every height (40m -> 120m) before moving to the next variable. Variables include, in order:\n",
    "    \n",
    "    Wind Speed ('WS ##')\n",
    "    Previous period wind speed ('Prev WS ##')\n",
    "    Turbulence Intensity ('uTI ##')\n",
    "    Vertical Wind Speed ('W ##')\n",
    "    Wind Direction ('Dir ##')\n",
    "    Hour of the day ('hour')\n",
    "where '##' denotes data height. Hour has already been formatted as a cosine curve and direction is taken as 0º -> 360º.</h3>\n",
    "<h3>\n",
    "    The Angles.csv file contains elevation angles for the terrain in 30º intervals surrounding the lidar. File is made up of a single column containing twelve elevation angles.</h3>"
   ]
  },
  {
   "cell_type": "code",
   "execution_count": null,
   "metadata": {},
   "outputs": [],
   "source": [
    "import numpy as np\n",
    "import pandas as pd\n",
    "import csv\n",
    "import seaborn as sns\n",
    "\n",
    "data = pd.read_csv('Data.csv', delimiter = ',')\n",
    "Angles = pd.read_csv('Angles.csv', delimiter = ',')"
   ]
  },
  {
   "cell_type": "markdown",
   "metadata": {},
   "source": [
    "<h2>First filter out wind speeds below 3m/s and create a Numpy array for ease of calculation</h2>"
   ]
  },
  {
   "cell_type": "code",
   "execution_count": null,
   "metadata": {},
   "outputs": [],
   "source": [
    "data = data.loc[data['WS 120'] >= 3]\n",
    "Data = np.array(data)"
   ]
  },
  {
   "cell_type": "markdown",
   "metadata": {},
   "source": [
    "<h2>Get Alpha Values of Interest and extrapolate log law extrapolated wind speed</h2>"
   ]
  },
  {
   "cell_type": "code",
   "execution_count": null,
   "metadata": {},
   "outputs": [],
   "source": [
    "alpha100_80 = np.divide(np.log(np.divide(Data[:, 3], Data[:, 2])), np.log(100/80))\n",
    "alphaWS = np.multiply(Data[:, 3], (120/100)**alpha100_80)\n",
    "pdAlpha = pd.DataFrame(alphaWS, columns=['Alpha WS'])"
   ]
  },
  {
   "cell_type": "markdown",
   "metadata": {},
   "source": [
    "<h2>This block contains a majority of the data processing</h2>"
   ]
  },
  {
   "cell_type": "code",
   "execution_count": null,
   "metadata": {},
   "outputs": [],
   "source": [
    "# Normalize current wind speed\n",
    "ws = np.array(data.iloc[:, :5])\n",
    "RegWS = pd.DataFrame(np.array(data.iloc[:, :5]))\n",
    "RegWS.columns=['RegWS 40', 'RegWS 60', 'RegWS 80', 'RegWS 100', 'RegWS 120']\n",
    "wsNorm = np.array(data['WS 100'])\n",
    "WS = np.divide(ws, wsNorm[:, None])\n",
    "\n",
    "# Put normalized vals back into array\n",
    "Data[:, :5] = WS\n",
    "\n",
    "# Normalize log law extrapolated wind speed\n",
    "wsaReg = np.divide(alphaWS, wsNorm)\n",
    "pdAlpha = pd.DataFrame(wsaReg, columns=['Alpha WS'])\n",
    "\n",
    "# Normalize previous Wind Speed\n",
    "prevws = np.array(data.iloc[:, 5:10])\n",
    "prevwsNorm = np.array(data['Prev WS 100'])\n",
    "prevWS = np.divide(prevws, prevwsNorm[:, None])\n",
    "# Put normalized vals back into array\n",
    "Data[:, 5:10] = prevWS\n",
    "\n",
    "# Fix Directions to go -180º -> 180º\n",
    "dirs = np.array(data.iloc[:, 20:25])\n",
    "dirs[dirs>180] = dirs[dirs>180]-360\n",
    "\n",
    "# Elevation Angle Data\n",
    "angles = np.array(Angles)\n",
    "dirData = np.array(data.iloc[:, 20:25])\n",
    "dirData[dirData>180] = dirData[dirData>180]-360\n",
    "elevAngle = np.zeros_like(dirData)\n",
    "elevAngle[(dirData>0) & (dirData<=30)] = angles[0]\n",
    "elevAngle[(dirData>30) & (dirData<=60)] = angles[1]\n",
    "elevAngle[(dirData>60) & (dirData<=90)] = angles[2]\n",
    "elevAngle[(dirData>90) & (dirData<=120)] = angles[3]\n",
    "elevAngle[(dirData>120) & (dirData<=150)] = angles[4]\n",
    "elevAngle[(dirData>150) & (dirData<=180)] = angles[5]\n",
    "elevAngle[(dirData>-180) & (dirData<=-150)] = angles[6]\n",
    "elevAngle[(dirData>-150) & (dirData<=-120)] = angles[7]\n",
    "elevAngle[(dirData>-120) & (dirData<=-90)] = angles[8]\n",
    "elevAngle[(dirData>-90) & (dirData<=-60)] = angles[9]\n",
    "elevAngle[(dirData>-60) & (dirData<=-30)] = angles[10]\n",
    "elevAngle[(dirData>-30) & (dirData<=0)] = angles[11]\n",
    "Elev = pd.DataFrame(elevAngle[:, :4], columns=['Elev 40', 'Elev 60', 'Elev 80',\n",
    "                                              'Elev 100'])\n",
    "\n",
    "# Wind Shear Data - dudz\n",
    "sep20m = np.array(data.iloc[:, :4])\n",
    "grad = np.gradient(sep20m, 20, axis=1)\n",
    "pdGrad = pd.DataFrame(grad, columns=['Shear 40m', 'Shear 60m', 'Shear 80m',\n",
    "                                    'Shear 100'])\n",
    "\n",
    "# Concatenate all data into a single Pandas dataframe\n",
    "pandaData = pd.DataFrame(Data)\n",
    "pandaData.columns = data.columns\n",
    "pdData = pd.concat([pandaData, pdAlpha, pdGrad, Elev, RegWS], axis = 1, sort = False)\n",
    "Cols = pdData.columns"
   ]
  },
  {
   "cell_type": "markdown",
   "metadata": {},
   "source": [
    "<h2>Save Data</h2>"
   ]
  },
  {
   "cell_type": "code",
   "execution_count": null,
   "metadata": {},
   "outputs": [],
   "source": [
    "pdData.to_csv('NondimData120.csv')"
   ]
  }
 ],
 "metadata": {
  "kernelspec": {
   "display_name": "Python 3",
   "language": "python",
   "name": "python3"
  },
  "language_info": {
   "codemirror_mode": {
    "name": "ipython",
    "version": 3
   },
   "file_extension": ".py",
   "mimetype": "text/x-python",
   "name": "python",
   "nbconvert_exporter": "python",
   "pygments_lexer": "ipython3",
   "version": "3.6.7"
  }
 },
 "nbformat": 4,
 "nbformat_minor": 2
}
