{
 "cells": [
  {
   "cell_type": "markdown",
   "metadata": {},
   "source": [
    "<h1>Creating and Running ANN Model</h1>\n",
    "<h3>Run after DataProcessing.ipynb code</h3>"
   ]
  },
  {
   "cell_type": "code",
   "execution_count": null,
   "metadata": {},
   "outputs": [],
   "source": [
    "import numpy as np\n",
    "import pandas as pd\n",
    "import csv\n",
    "import keras\n",
    "from keras.models import Sequential\n",
    "from keras.layers import Dense, Dropout\n",
    "from keras.utils import plot_model\n",
    "from keras.callbacks import ModelCheckpoint, EarlyStopping\n",
    "from sklearn import preprocessing\n",
    "import matplotlib.pyplot as plt\n",
    "from keras import regularizers\n",
    "from ipynb.fs.full.Functions import TenTests\n",
    "import os\n",
    "\n",
    "Data = pd.read_csv('NondimData120.csv', delimiter = ',')\n",
    "\n",
    "Data = Data.iloc[:, 1:]"
   ]
  },
  {
   "cell_type": "code",
   "execution_count": null,
   "metadata": {},
   "outputs": [],
   "source": [
    "# create a Numpy array of the Pandas DataFrame\n",
    "data = np.array(Data)"
   ]
  },
  {
   "cell_type": "markdown",
   "metadata": {},
   "source": [
    "<h2>Create and Train the model 10 times</h2>"
   ]
  },
  {
   "cell_type": "code",
   "execution_count": null,
   "metadata": {},
   "outputs": [],
   "source": [
    "# create data matrix and run tests\n",
    "\n",
    "# For the input matrix, choose columns of the data array depending on desired test\n",
    "inputs = np.concatenate((data[:, :2], data[:, 10:13], data[:, 25:36],\n",
    "                        data[:, 5:7], data[:, 8:9], data[:, 15:18],\n",
    "                        data[:, 20:23]), axis=1)\n",
    "\n",
    "# Target should have one column: the desired wind speed at extrapolation height\n",
    "target = data[:, 3]\n",
    "\n",
    "percError = TenTests(inputs, target)\n",
    "\n",
    "# print out the min, mean, and sandard deviation of the 10 percent error values\n",
    "print('Min: ', np.min(percError), '% \\nMean: ', np.round(np.mean(percError), 2), \n",
    "      '%\\nStD: ', np.round(np.std(percError), 2), '\\n',\n",
    "       percError)"
   ]
  }
 ],
 "metadata": {
  "kernelspec": {
   "display_name": "Python 3",
   "language": "python",
   "name": "python3"
  },
  "language_info": {
   "codemirror_mode": {
    "name": "ipython",
    "version": 3
   },
   "file_extension": ".py",
   "mimetype": "text/x-python",
   "name": "python",
   "nbconvert_exporter": "python",
   "pygments_lexer": "ipython3",
   "version": "3.6.7"
  }
 },
 "nbformat": 4,
 "nbformat_minor": 2
}
