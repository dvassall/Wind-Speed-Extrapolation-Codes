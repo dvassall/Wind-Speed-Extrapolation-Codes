{
 "cells": [
  {
   "cell_type": "markdown",
   "metadata": {},
   "source": [
    "<h1>This code provides the functions used in the \"Model.ipynb\" code</h1>"
   ]
  },
  {
   "cell_type": "code",
   "execution_count": null,
   "metadata": {},
   "outputs": [],
   "source": [
    "def TenTests(inputs, target):\n",
    "    # returns the percentage error of each of the 10 tests performed\n",
    "    import numpy as np\n",
    "    from sklearn.model_selection import train_test_split\n",
    "    import keras\n",
    "    from keras.models import Sequential\n",
    "    from keras.layers import Dense, Dropout\n",
    "    from keras.callbacks import ModelCheckpoint\n",
    "    percError = np.zeros((10, 1))\n",
    "    filepath = 'best.hdf5'\n",
    "    shape = inputs.shape[1]\n",
    "    for x in range(10):\n",
    "        # Split Data\n",
    "        # Split test set (25%) from the rest of the data\n",
    "        train1in, test_in, train1target, test_target = train_test_split(inputs, target, \n",
    "                                                                    test_size=1/4.0)\n",
    "        # Split first 75% of data into training (50%) and validation (25%) sets\n",
    "        train_in, val_in, train_target, val_target = train_test_split(train1in, train1target,\n",
    "                                                                     test_size=1/3.0)\n",
    "\n",
    "        # Create Model\n",
    "        batch_size = 128\n",
    "        epochs = 1000\n",
    "        model = Sequential()\n",
    "        model.add(Dense(30, activation = 'tanh', \n",
    "                        kernel_initializer='glorot_uniform',\n",
    "                        bias_initializer='zeros',\n",
    "                        input_shape = (shape,)))\n",
    "        model.add(Dropout(0.1))\n",
    "        model.add(Dense(15, activation = 'tanh', \n",
    "                       kernel_initializer='glorot_uniform',\n",
    "                       bias_initializer='zeros'))\n",
    "        model.add(Dropout(0.1))\n",
    "        model.add(Dense(10, activation = 'tanh',  \n",
    "                       kernel_initializer='glorot_uniform',\n",
    "                       bias_initializer='zeros'))\n",
    "        model.add(Dense(5, activation = 'tanh', \n",
    "                       kernel_initializer='glorot_uniform',\n",
    "                       bias_initializer='zeros'))\n",
    "        model.add(Dense(1, activation = 'linear'))\n",
    "\n",
    "        # Compile Model\n",
    "        model.compile(loss = 'mean_absolute_percentage_error',\n",
    "                     optimizer = 'Adam',\n",
    "                     metrics = ['accuracy'])\n",
    "\n",
    "        # Run model\n",
    "        MC = ModelCheckpoint(filepath, monitor='val_loss', save_best_only=True)\n",
    "        history = model.fit(train_in, train_target,\n",
    "                 batch_size = batch_size,\n",
    "                 epochs = epochs,\n",
    "                 verbose = 0,\n",
    "                 validation_data = (val_in, val_target),\n",
    "                 callbacks = [MC])\n",
    "        \n",
    "        # load best model and get the percentage error\n",
    "        model.load_weights(\"best.hdf5\")\n",
    "        scores = model.evaluate(test_in, test_target, verbose=0)\n",
    "        percError[x] = scores[0]\n",
    "        print('Test ', x, ' complete')\n",
    "    return np.round(percError, 2)\n"
   ]
  }
 ],
 "metadata": {
  "kernelspec": {
   "display_name": "Python 3",
   "language": "python",
   "name": "python3"
  },
  "language_info": {
   "codemirror_mode": {
    "name": "ipython",
    "version": 3
   },
   "file_extension": ".py",
   "mimetype": "text/x-python",
   "name": "python",
   "nbconvert_exporter": "python",
   "pygments_lexer": "ipython3",
   "version": "3.6.7"
  }
 },
 "nbformat": 4,
 "nbformat_minor": 2
}
